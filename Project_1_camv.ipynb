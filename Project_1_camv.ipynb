{
 "cells": [
  {
   "cell_type": "markdown",
   "id": "a6c22f62-b050-41b7-bf9e-9019761b83b1",
   "metadata": {},
   "source": [
    "# Task 1: Coding the Central Dogma"
   ]
  },
  {
   "cell_type": "markdown",
   "id": "97c7d7a0-752a-4b05-882b-ced5ac118b70",
   "metadata": {},
   "source": [
    "## 1.1 Write a function that finds the complementary sequence of a given DNA sequence"
   ]
  },
  {
   "cell_type": "code",
   "execution_count": 2,
   "id": "8a9c855c-398b-4cac-8ab3-603fc8a7f3f3",
   "metadata": {},
   "outputs": [
    {
     "data": {
      "text/plain": [
       "'TAGC'"
      ]
     },
     "execution_count": 2,
     "metadata": {},
     "output_type": "execute_result"
    }
   ],
   "source": [
    "def dna_complementary(seq, direction = 'same'):\n",
    "    comp_dict = {'A': 'T', 'T': 'A', 'C': 'G', 'G': 'C'} #Creating a dictionary that maps A to T and C to G\n",
    "    comp_seq = '' # Empty variable that will store the base pair complement of the input string.\n",
    "\n",
    "    \n",
    "    seq = seq.upper() # creating a variable of the input sequence where it is all uppercase. This handles the case- senstivie requirement.\n",
    "    for base in seq:\n",
    "        if base in comp_dict:\n",
    "            comp_seq += comp_dict[base]\n",
    "        else: \n",
    "            raise ValueError(f\"'{seq}' is not a valid nucleotide sequence\")\n",
    "        \n",
    "\n",
    "    if direction == 'reverse':\n",
    "        comp_seq = comp_seq[::-1] # using [::-1] to reverse the complement sequence if reverse is specified.\n",
    "\n",
    "    return comp_seq\n",
    "\n",
    "# Testing function, \n",
    "dna_complementary('ATcG', 'same')"
   ]
  },
  {
   "cell_type": "markdown",
   "id": "49a0f4d0-572d-4f77-89a3-2d389dad013d",
   "metadata": {},
   "source": [
    "## 1.2 Write a function that finds the RNA sequence of a given DNA sequence"
   ]
  },
  {
   "cell_type": "code",
   "execution_count": 3,
   "id": "3346a800-43b5-41a0-af2e-b812c6c7df42",
   "metadata": {},
   "outputs": [
    {
     "data": {
      "text/plain": [
       "'AACCGGG'"
      ]
     },
     "execution_count": 3,
     "metadata": {},
     "output_type": "execute_result"
    }
   ],
   "source": [
    "def dna_rna(seq):\n",
    "    \n",
    "    seq = seq.upper() # handling lowercase letters\n",
    "    \n",
    "    if 'U' in seq: # checking if sequence is already a valid rna sequence\n",
    "        print('Input sequence is already an RNA sequence')\n",
    "     # checking to see if sequence contains non-canonical items   \n",
    "    if any(base not in \"ACGT\" for base in seq):\n",
    "        raise ValueError('input sequence contains non-canonical items')\n",
    "    \n",
    "     # if the input sequence passes both if statements then it will proceed.\n",
    "    seq = seq.replace(\"T\", \"U\")\n",
    "    \n",
    "    \n",
    "    return(seq)\n",
    "\n",
    "\n",
    "# Testing function\n",
    "dna_rna('AACCGGG')"
   ]
  },
  {
   "cell_type": "markdown",
   "id": "3894c5cf-38ba-46df-aa76-91284170edda",
   "metadata": {},
   "source": [
    "## 1.3 Write a function that finds the amino acid sequence of a given RNA sequence"
   ]
  },
  {
   "cell_type": "code",
   "execution_count": 4,
   "id": "700233a6-c1dd-4a61-8921-63eaf5ca3f69",
   "metadata": {},
   "outputs": [
    {
     "data": {
      "text/plain": [
       "'CAM*VICNAIRE'"
      ]
     },
     "execution_count": 4,
     "metadata": {},
     "output_type": "execute_result"
    }
   ],
   "source": [
    "def rna_aa(seq):\n",
    "    #Need to define a dictionary of triplet to amino acid mappings.\n",
    "    seq= seq.upper()# handling lowercase\n",
    "    # creating an amino acid sequence dictionary that maps RNA triplets to their respecting amino acid,\n",
    "    # the stop codons are mapped to * as directed\n",
    "    prot_seq = \"\"\n",
    "    AA_dict = {\n",
    "    \"UUU\": \"F\", \"UUC\": \"F\", \"UUA\": \"L\", \"UUG\": \"L\",\n",
    "    \"CUU\": \"L\", \"CUC\": \"L\", \"CUA\": \"L\", \"CUG\": \"L\",\n",
    "    \"AUU\": \"I\", \"AUC\": \"I\", \"AUA\": \"I\", \"AUG\": \"M\",\n",
    "    \"GUU\": \"V\", \"GUC\": \"V\", \"GUA\": \"V\", \"GUG\": \"V\",\n",
    "    \"UCU\": \"S\", \"UCC\": \"S\", \"UCA\": \"S\", \"UCG\": \"S\",\n",
    "    \"CCU\": \"P\", \"CCC\": \"P\", \"CCA\": \"P\", \"CCG\": \"P\",\n",
    "    \"ACU\": \"T\", \"ACC\": \"T\", \"ACA\": \"T\", \"ACG\": \"T\",\n",
    "    \"GCU\": \"A\", \"GCC\": \"A\", \"GCA\": \"A\", \"GCG\": \"A\",\n",
    "    \"UAU\": \"Y\", \"UAC\": \"Y\", \"UAA\": \"*\", \"UAG\": \"*\",\n",
    "    \"CAU\": \"H\", \"CAC\": \"H\", \"CAA\": \"Q\", \"CAG\": \"Q\",\n",
    "    \"AAU\": \"N\", \"AAC\": \"N\", \"AAA\": \"K\", \"AAG\": \"K\",\n",
    "    \"GAU\": \"D\", \"GAC\": \"D\", \"GAA\": \"E\", \"GAG\": \"E\",\n",
    "    \"UGU\": \"C\", \"UGC\": \"C\", \"UGA\": \"*\", \"UGG\": \"W\",\n",
    "    \"CGU\": \"R\", \"CGC\": \"R\", \"CGA\": \"R\", \"CGG\": \"R\",\n",
    "    \"AGU\": \"S\", \"AGC\": \"S\", \"AGA\": \"R\", \"AGG\": \"R\",\n",
    "    \"GGU\": \"G\", \"GGC\": \"G\", \"GGA\": \"G\", \"GGG\": \"G\"\n",
    "}\n",
    "\n",
    "    for nt in range(0, len(seq), 3):\n",
    "        codon = seq[nt:nt + 3] # codon variable that segments the sequence in 3\n",
    "        if codon in AA_dict:\n",
    "            AA = AA_dict[codon] \n",
    "            prot_seq += AA\n",
    "\n",
    "    return(prot_seq)\n",
    "\n",
    "\n",
    "\n",
    "# Testing Function\n",
    "rna_aa(\"UGUGCUAUGUAAGUGAUAUGUAAUGCUAUUCGUGAG\") # spent way too much time on this "
   ]
  },
  {
   "cell_type": "markdown",
   "id": "71b20380-906b-4a53-adf4-f0b43a0349e3",
   "metadata": {},
   "source": [
    "## 1.4 Tying it all together: Write a higher-order function that combines 1.1-1.3."
   ]
  },
  {
   "cell_type": "code",
   "execution_count": 5,
   "id": "4d88a10f-3598-4650-b87a-e35b7ec997a5",
   "metadata": {},
   "outputs": [
    {
     "data": {
      "text/plain": [
       "'AAMFG'"
      ]
     },
     "execution_count": 5,
     "metadata": {},
     "output_type": "execute_result"
    }
   ],
   "source": [
    "\n",
    "\n",
    "def dna_aa(seq, direction = 'same'):\n",
    "    \n",
    "    \n",
    "    if direction == 'reverse': # will handle the direction and reverse parameter for dna_comp as mentioned in the project pdf notes.\n",
    "    \n",
    "        dna_comp = dna_complementary(seq, direction = 'reverse')\n",
    "    else:\n",
    "        dna_comp = dna_complementary(seq, direction = 'same')\n",
    "   \n",
    "    rna_seq = dna_rna(dna_comp) # calling on previous function\n",
    "    \n",
    "    aa = rna_aa(rna_seq) # calling on previous function\n",
    "    \n",
    "    return(aa)\n",
    "\n",
    "dna_aa('CGTCGCTACaAACCg', direction = 'same')"
   ]
  },
  {
   "cell_type": "markdown",
   "id": "41f727ac-8fa6-40e1-89e0-420254fc5b71",
   "metadata": {},
   "source": [
    "## 1.5 Protein annotator"
   ]
  },
  {
   "cell_type": "code",
   "execution_count": 7,
   "id": "85c58d81-1850-47ef-810f-d17893402824",
   "metadata": {},
   "outputs": [
    {
     "ename": "ModuleNotFoundError",
     "evalue": "No module named 'minotaor'",
     "output_type": "error",
     "traceback": [
      "\u001b[0;31m---------------------------------------------------------------------------\u001b[0m",
      "\u001b[0;31mModuleNotFoundError\u001b[0m                       Traceback (most recent call last)",
      "\u001b[1;32m/Users/cameronvicnaire/Desktop/Project_1_camv.ipynb Cell 11\u001b[0m line \u001b[0;36m1\n\u001b[0;32m----> <a href='vscode-notebook-cell:/Users/cameronvicnaire/Desktop/Project_1_camv.ipynb#X13sZmlsZQ%3D%3D?line=0'>1</a>\u001b[0m \u001b[39mimport\u001b[39;00m \u001b[39mminotaor\u001b[39;00m\n\u001b[1;32m      <a href='vscode-notebook-cell:/Users/cameronvicnaire/Desktop/Project_1_camv.ipynb#X13sZmlsZQ%3D%3D?line=1'>2</a>\u001b[0m \u001b[39mfrom\u001b[39;00m \u001b[39mBio\u001b[39;00m\u001b[39m.\u001b[39;00m\u001b[39mSeq\u001b[39;00m \u001b[39mimport\u001b[39;00m Seq\n\u001b[1;32m      <a href='vscode-notebook-cell:/Users/cameronvicnaire/Desktop/Project_1_camv.ipynb#X13sZmlsZQ%3D%3D?line=2'>3</a>\u001b[0m \u001b[39mfrom\u001b[39;00m \u001b[39mBio\u001b[39;00m\u001b[39m.\u001b[39;00m\u001b[39mSeqRecord\u001b[39;00m \u001b[39mimport\u001b[39;00m SeqRecord\n",
      "\u001b[0;31mModuleNotFoundError\u001b[0m: No module named 'minotaor'"
     ]
    }
   ],
   "source": [
    "import minotaor\n",
    "from Bio.Seq import Seq\n",
    "from Bio.SeqRecord import SeqRecord\n",
    "\n",
    "# Replace the sequence with your own sequence\n",
    "protein = Seq(\"MHLEGRDGRRYPGAPAVELLQTSVPSGLAELVAGKRRLPRGAGGADPSHSCPRGAAGQSSWAPAGQEFASFLTKGRSHSSLPQMSSSRSKDSCFTENTPLLRNSLQEKGSRCIPVYHPEFITAEESWEDSSADWERRYLLSREVSGLSASASSEKGDLLDSPHIRLRLSKLRRCVQWLKVMGLFAFVVLCSILFSLYPDQGKLWQLLALSPLENYSVNLSSHVDSTLLQVDLAGALVASGPSRPGREEHIVVELTQADALGSRWRRPQQVTHNWTVYLNPRRSEHSVMSRTFEVLTRETVSISIRASLQQTQAVPLLMAHQYLRGSVETQVTIATAILAGVYALIIFEIVHRTLAAMLGSLAALAALAVIGDRPSLTHVVEWIDFETLALLFGMMILVAIFSETGFFDYCAVKAYRLSRGRVWAMIIMLCLIAAVLSAFLDNVTTMLLFTPVTIRLCEVLNLDPRQVLIAEVIFTNIGGAATAIGDPPNVIIVSNQELRKMGLDFAGFTAHMFIGICLVLLVCFPLLRLLYWNRKLYNKEPSEIVELKHEIHVWRLTAQRISPASREETAVRRLLLGKVLALEHLLARRLHTFHRQISQEDKNWETNIQELQKKHRISDGILLAKCLTVLGFVIFMFFLNSFVPGIHLDLGWIAILGAIWLLILADIHDFEIILHRVEWATLLFFAALFVLMEALAHLHLIEYVGEQTALLIKMVPEEQRLIAAIVLVVWVSALASSLIDNIPFTATMIPVLLNLSHDPEVGLPAPPLMYALAFGACLGGNGTLIGASANVVCAGIAEQHGYGFSFMEFFRLGFPMMVVSCTVGMCYLLVAHVVVGWN\")\n",
    "protein_record = SeqRecord(protein, id=\"sp|Q04671|\", annotations={\"molecule_type\": \"protein\"})\n",
    "\n",
    "protein_record = minotaor.annotate_record(protein_record)  # search is case sensitive"
   ]
  },
  {
   "cell_type": "code",
   "execution_count": 6,
   "id": "f1fe9ae5-0af3-49b8-9d1d-5abd8007ea60",
   "metadata": {},
   "outputs": [
    {
     "data": {
      "text/plain": [
       "SeqRecord(seq=Seq('MHLEGRDGRRYPGAPAVELLQTSVPSGLAELVAGKRRLPRGAGGADPSHSCPRG...GWN'), id='sp|Q04671|', name='<unknown name>', description='<unknown description>', dbxrefs=[])"
      ]
     },
     "execution_count": 6,
     "metadata": {},
     "output_type": "execute_result"
    }
   ],
   "source": [
    "protein_record"
   ]
  },
  {
   "cell_type": "code",
   "execution_count": 7,
   "id": "52ef5ec7-bb51-4c7c-b3f8-802c25c73cab",
   "metadata": {},
   "outputs": [
    {
     "data": {
      "image/png": "[encoded data removed]",
      "text/plain": [
       "<Figure size 1000x380 with 1 Axes>"
      ]
     },
     "metadata": {},
     "output_type": "display_data"
    }
   ],
   "source": [
    "graphic_record = minotaor.MinotaorTranslator().translate_record(protein_record)\n",
    "ax, _ = graphic_record.plot(figure_width=10, strand_in_label_threshold=7)\n",
    "graphic_record.plot_sequence(ax)"
   ]
  },
  {
   "cell_type": "markdown",
   "id": "677a4aea",
   "metadata": {},
   "source": [
    "The protein seqeunce that I chose was the protein sequence thats comes from the OCA2 gene. The protein sequence was acquired though uniProt. The common name of this protein is P-protein and is found in the human genome. To put it simply, its primary function is to provide optimal melanosomal pH for tyrosinase activity that is required for melanogenesis. So basically it regulates skin pigmenation. Any variants of the protein will cause skin disorders like albinism."
   ]
  },
  {
   "cell_type": "markdown",
   "id": "6bafe9c4-3188-427b-a82a-5e36eaefddd5",
   "metadata": {},
   "source": [
    "# Task 2: Wrapping it all together with raw data"
   ]
  },
  {
   "cell_type": "markdown",
   "id": "7bed74b2-8ce6-47e5-a346-0be124647b17",
   "metadata": {},
   "source": [
    "2.1 Write a function that reads the fastq file and extracts all sequences that have a quality scores above Q10."
   ]
  },
  {
   "cell_type": "code",
   "execution_count": 8,
   "id": "bf5fbafa-0227-471a-8410-5319008175c6",
   "metadata": {},
   "outputs": [
    {
     "ename": "ModuleNotFoundError",
     "evalue": "No module named 'Bio'",
     "output_type": "error",
     "traceback": [
      "\u001b[0;31m---------------------------------------------------------------------------\u001b[0m",
      "\u001b[0;31mModuleNotFoundError\u001b[0m                       Traceback (most recent call last)",
      "\u001b[1;32m/Users/cameronvicnaire/Desktop/Project_1_camv.ipynb Cell 17\u001b[0m line \u001b[0;36m2\n\u001b[1;32m      <a href='vscode-notebook-cell:/Users/cameronvicnaire/Desktop/Project_1_camv.ipynb#X22sZmlsZQ%3D%3D?line=0'>1</a>\u001b[0m \u001b[39m# Importing Packages, parsing fastq files useing SeqIO\u001b[39;00m\n\u001b[0;32m----> <a href='vscode-notebook-cell:/Users/cameronvicnaire/Desktop/Project_1_camv.ipynb#X22sZmlsZQ%3D%3D?line=1'>2</a>\u001b[0m \u001b[39mfrom\u001b[39;00m \u001b[39mBio\u001b[39;00m \u001b[39mimport\u001b[39;00m SeqIO\n\u001b[1;32m      <a href='vscode-notebook-cell:/Users/cameronvicnaire/Desktop/Project_1_camv.ipynb#X22sZmlsZQ%3D%3D?line=4'>5</a>\u001b[0m \u001b[39mdef\u001b[39;00m \u001b[39mextract_seqs\u001b[39m(file_path): \u001b[39m# changed to have one more param because I learned this in R studio\u001b[39;00m\n\u001b[1;32m      <a href='vscode-notebook-cell:/Users/cameronvicnaire/Desktop/Project_1_camv.ipynb#X22sZmlsZQ%3D%3D?line=6'>7</a>\u001b[0m     seq_dict \u001b[39m=\u001b[39m {}\n",
      "\u001b[0;31mModuleNotFoundError\u001b[0m: No module named 'Bio'"
     ]
    }
   ],
   "source": [
    "# Importing Packages, parsing fastq files useing SeqIO\n",
    "from Bio import SeqIO\n",
    "\n",
    "\n",
    "def extract_seqs(file_path): # changed to have one more param because I learned this in R studio\n",
    "    \n",
    "    seq_dict = {}\n",
    "    \n",
    "    with open(file_path, \"r\") as fastq_file:  #opening the fastq file\n",
    "        for record in SeqIO.parse(fastq_file, \"fastq\"): # using the seqIO parse, \n",
    "            \n",
    "            if min(record.letter_annotations[\"phred_quality\"]) >= 10: # Filters the file to only add seqeunces that have a quality score that is equal to 10 or grerater.\n",
    "                \n",
    "            \n",
    "                seq_dict[record.id]= str(record.seq) # putting everything in a dictionary\n",
    " \n",
    "    return(seq_dict)\n",
    "\n",
    "\n",
    "    \n",
    "    \n",
    "head(extract_seqs('sample10000.fastq'))\n"
   ]
  },
  {
   "cell_type": "code",
   "execution_count": 9,
   "id": "eae5e368-def6-41a6-974e-f37c86fb7ce3",
   "metadata": {},
   "outputs": [],
   "source": [
    "class Genome:\n",
    "    \"\"\"\n",
    "    Read, store, and analyze the contents of a genome from a FASTA file\n",
    "    \"\"\"\n",
    "    def __init__(self, filepath):\n",
    "        self.filepath = filepath\n",
    "        self.dna_seqs = None\n",
    "        self.dna_complementary_seqs = None\n",
    "        self.rna_sequences = None\n",
    "        self.aa_sequences = None\n",
    "    \n",
    "    # UPDATE THE FOLLOWING FUNCTIONS TO POPULATE THE ABOVE PROPERTIES\n",
    "    def extract_seqs(self):\n",
    "        dna_seq = {} # empty dictionary\n",
    "    \n",
    "        with open(self.filepath, \"r\") as fastq_file:  #opening the fastq file\n",
    "            for record in SeqIO.parse(fastq_file, \"fastq\"): # using the seqIO parse, \n",
    "            \n",
    "                if min(record.letter_annotations[\"phred_quality\"]) >= 10: # Filters the file to only add seqeunces that have a quality score that is equal to 10 or grerater\n",
    "                    dna_seq[record.id]= str(record.seq) # storing the info in a dictionary\n",
    "        \n",
    "        self.dna_seqs = dna_seq # making the self.dna_seqs equal to dna_seq \n",
    "\n",
    "    \n",
    "    \n",
    "    def complementary_seqs(self): # having the direction was not specified in the report so I omitted this to reduce bloat\n",
    "        comp_dict = {'A': 'T', 'T': 'A', 'C': 'G', 'G': 'C'}\n",
    "        dna_complementary_seqs = {}  # Initialize the dictionary for complementary sequences\n",
    "\n",
    "        if self.dna_seqs == \"None\":\n",
    "            \n",
    "            raise ValueError(f\"'{dna_seq} is empty\") # error handling\n",
    "        \n",
    "        \n",
    "        \n",
    "        for seq_id, seq in self.dna_seqs.items(): # for loop that calls on the dna_seq dicitonary\n",
    "            seq = seq.upper() # handling lowercase (not sure if its needed but its here anways)\n",
    "            comp_seq = ''\n",
    "\n",
    "            for base in seq:\n",
    "                if base in comp_dict:\n",
    "                    comp_seq += comp_dict[base]\n",
    "                else:\n",
    "                    raise ValueError(f\"'{seq}' is not a valid input\")\n",
    "\n",
    "            dna_complementary_seqs[seq_id] = comp_seq\n",
    "            \n",
    "        self.dna_complementary_seqs = dna_complementary_seqs\n",
    " \n",
    "    def rna_seqs(self):\n",
    "        rna_seqs = {}\n",
    "\n",
    "        if self.dna_complementary_seqs == \"None\":  # error handling\n",
    "            raise ValueError (\"Instance Variable 'self.dna_complementary_seqs' is empty\")\n",
    "        \n",
    "        \n",
    "        for seq_id, seq in self.dna_complementary_seqs.items(): # for loop that iterates through the dictionary also using the .items\n",
    "\n",
    "            if 'U' in seq: # Error Handling\n",
    "                print(f'{seq_id}: Input sequence is already an RNA sequence')\n",
    "            \n",
    "            elif any(base not in \"ACGT\" for base in seq): # more error handling\n",
    "                raise ValueError(f'{seq_id}: Input sequence contains non-canonical items')\n",
    "\n",
    "            seq = seq.replace(\"T\", \"U\")\n",
    "\n",
    "            rna_seqs[seq_id] = seq # remapping the seq ids to the sequences\n",
    "\n",
    "        self.rna_sequences = rna_seqs  # instance variable equal to function output {dict} \n",
    "    \n",
    "   \n",
    "    \n",
    "    def aa_seqs(self):\n",
    "        aa_seqs = {} # Init function variable\n",
    "\n",
    "            # Define the RNA to amino acid mapping dictionary\n",
    "        rna_codon_table = {\n",
    "        \"UUU\": \"F\", \"UUC\": \"F\", \"UUA\": \"L\", \"UUG\": \"L\",\n",
    "        \"CUU\": \"L\", \"CUC\": \"L\", \"CUA\": \"L\", \"CUG\": \"L\",\n",
    "        \"AUU\": \"I\", \"AUC\": \"I\", \"AUA\": \"I\", \"AUG\": \"M\",\n",
    "        \"GUU\": \"V\", \"GUC\": \"V\", \"GUA\": \"V\", \"GUG\": \"V\",\n",
    "        \"UCU\": \"S\", \"UCC\": \"S\", \"UCA\": \"S\", \"UCG\": \"S\",\n",
    "        \"CCU\": \"P\", \"CCC\": \"P\", \"CCA\": \"P\", \"CCG\": \"P\",\n",
    "        \"ACU\": \"T\", \"ACC\": \"T\", \"ACA\": \"T\", \"ACG\": \"T\",\n",
    "        \"GCU\": \"A\", \"GCC\": \"A\", \"GCA\": \"A\", \"GCG\": \"A\",\n",
    "        \"UAU\": \"Y\", \"UAC\": \"Y\", \"UAA\": \"*\", \"UAG\": \"*\",\n",
    "        \"CAU\": \"H\", \"CAC\": \"H\", \"CAA\": \"Q\", \"CAG\": \"Q\",\n",
    "        \"AAU\": \"N\", \"AAC\": \"N\", \"AAA\": \"K\", \"AAG\": \"K\",\n",
    "        \"GAU\": \"D\", \"GAC\": \"D\", \"GAA\": \"E\", \"GAG\": \"E\",\n",
    "        \"UGU\": \"C\", \"UGC\": \"C\", \"UGA\": \"*\", \"UGG\": \"W\",\n",
    "        \"CGU\": \"R\", \"CGC\": \"R\", \"CGA\": \"R\", \"CGG\": \"R\",\n",
    "        \"AGU\": \"S\", \"AGC\": \"S\", \"AGA\": \"R\", \"AGG\": \"R\",\n",
    "        \"GGU\": \"G\", \"GGC\": \"G\", \"GGA\": \"G\", \"GGG\": \"G\"\n",
    "            }\n",
    "        if self.rna_sequences == \"None\": # Error Handling\n",
    "            raise ValueError(\"self.rna_sequences instance variable is empty\")\n",
    "            \n",
    "        # Iterate over the RNA sequences and translate them to amino acids\n",
    "        for seq_id, seq in self.rna_sequences.items(): # modifying the previous code in part 1 to handle dictionary inputs\n",
    "            prot_seq = \"\"\n",
    "            seq = seq.upper()  # Convert to uppercase for consistency\n",
    "\n",
    "            for nt in range(0, len(seq), 3):\n",
    "                codon = seq[nt:nt + 3]  # Codon variable that segments the sequence in 3\n",
    "                if codon in rna_codon_table:\n",
    "                    AA = rna_codon_table[codon]\n",
    "                    prot_seq += AA\n",
    "\n",
    "            aa_seqs[seq_id] = prot_seq\n",
    "\n",
    "        # Setting instance variable to the function variable\n",
    "        self.aa_sequences = aa_seqs\n",
    "\n",
    "\n",
    "    def annot_aa_plot(self, seqid):\n",
    "        if self.aa_sequences == \"None\":\n",
    "            raise ValueError(\"self.aa_sequences instance variable is empty\")\n",
    "        #Throwing in an if statement to check if the seqid param is found inside the aa_sequences dictionary\n",
    "        if seqid in self.aa_sequences:\n",
    "            #The Rest of this code is almost exactly like the code given but modified to incorperate self.aa_seqeunces and the seqid parameter.\n",
    "            protein_sequence = self.aa_sequences[seqid]\n",
    "            protein_record = SeqRecord(Seq(protein_sequence), id = seqid, annotations= {\"molecule type\" : \"protein\"})\n",
    "            protein_record = minotaor.annotate_record(protein_record)  # search is case sensitive\n",
    "            graphic_record = minotaor.MinotaorTranslator().translate_record(protein_record)\n",
    "            ax, _ = graphic_record.plot(figure_width=10, strand_in_label_threshold=7)\n",
    "            graphic_record.plot_sequence(ax)\n",
    "            # honestly I could tweak this to make it not look like crap but it works so eh\n",
    "\n",
    "            \n",
    "            \n",
    "#Testing everything to make sure it looks good.            \n",
    "g = Genome('sample10000.fastq')\n",
    "g.extract_seqs()\n",
    "#(g.dna_seqs) Commented out because pdf looks terrible with it\n"
   ]
  },
  {
   "cell_type": "code",
   "execution_count": 10,
   "id": "02cbc95d",
   "metadata": {},
   "outputs": [],
   "source": [
    "#Testing if the Class is working properly\n",
    "g.complementary_seqs()\n",
    "#print(g.dna_complementary_seqs)\n"
   ]
  },
  {
   "cell_type": "code",
   "execution_count": 11,
   "id": "961bd855",
   "metadata": {},
   "outputs": [],
   "source": [
    "#Testing if the Class is working properly\n",
    "g.rna_seqs()\n",
    "#print(g.rna_sequences)"
   ]
  },
  {
   "cell_type": "code",
   "execution_count": 12,
   "id": "09df152d",
   "metadata": {},
   "outputs": [],
   "source": [
    "#Testing if the Class is working properly\n",
    "g.aa_seqs()\n",
    "#print(g.aa_sequences)"
   ]
  },
  {
   "cell_type": "code",
   "execution_count": 13,
   "id": "9d7385bf",
   "metadata": {},
   "outputs": [
    {
     "data": {
      "image/png": "[encoded data removed]",
      "text/plain": [
       "<Figure size 1000x220 with 1 Axes>"
      ]
     },
     "metadata": {},
     "output_type": "display_data"
    }
   ],
   "source": [
    "g.annot_aa_plot('ERR016162.31734339') # Testing out the function for protein annotatation, looks good enough to me! "
   ]
  }
 ],
 "metadata": {
  "kernelspec": {
   "display_name": "Python 3 (ipykernel)",
   "language": "python",
   "name": "python3"
  },
  "language_info": {
   "codemirror_mode": {
    "name": "ipython",
    "version": 3
   },
   "file_extension": ".py",
   "mimetype": "text/x-python",
   "name": "python",
   "nbconvert_exporter": "python",
   "pygments_lexer": "ipython3",
   "version": "3.11.5"
  }
 },
 "nbformat": 4,
 "nbformat_minor": 5
}
